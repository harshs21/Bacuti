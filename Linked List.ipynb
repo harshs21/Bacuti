{
 "cells": [
  {
   "cell_type": "code",
   "execution_count": 3,
   "metadata": {},
   "outputs": [],
   "source": [
    "class ListNode():\n",
    "  def __init__(self, val, next=None):\n",
    "    self.val = val\n",
    "    self.next = next\n",
    "  "
   ]
  },
  {
   "cell_type": "markdown",
   "metadata": {},
   "source": [
    "206. Reverse Linked List\n"
   ]
  },
  {
   "cell_type": "code",
   "execution_count": 10,
   "metadata": {},
   "outputs": [],
   "source": [
    "class ListNode():\n",
    "  def __init__(self, val, next=None):\n",
    "    self.val = val\n",
    "    self.next = next\n",
    "\n",
    "def reverseLL(head, left, right):\n",
    "  dummy = ListNode(0, head)\n",
    "  dummy.next = head\n",
    "\n",
    "  leftPrev, cur = None, head\n",
    "  # reach node at position left\n",
    "  for i in range(left-1):\n",
    "    leftPrev, cur = cur, cur.next\n",
    "\n",
    "  #reverse\n",
    "  prev = None\n",
    "  for i in range(right-left+1):\n",
    "    tmpNext = cur.next # due to bellow step we are first saving cur.next\n",
    "    cur.next = prev  # assigning the next value to null as we are shifting the pointers    2-->3 to 2-->none\n",
    "    prev, cur = cur, tmpNext\n",
    "  #pointing the end pointer to correct reversed portion\n",
    "  leftPrev.next.next = cur\n",
    "  leftPrev.next = prev\n",
    "  return dummy.next"
   ]
  },
  {
   "cell_type": "code",
   "execution_count": 9,
   "metadata": {},
   "outputs": [
    {
     "ename": "AttributeError",
     "evalue": "'list' object has no attribute 'next'",
     "output_type": "error",
     "traceback": [
      "\u001b[1;31m---------------------------------------------------------------------------\u001b[0m",
      "\u001b[1;31mAttributeError\u001b[0m                            Traceback (most recent call last)",
      "Cell \u001b[1;32mIn[9], line 1\u001b[0m\n\u001b[1;32m----> 1\u001b[0m \u001b[43mreverseLL\u001b[49m\u001b[43m(\u001b[49m\u001b[43m[\u001b[49m\u001b[38;5;241;43m1\u001b[39;49m\u001b[43m,\u001b[49m\u001b[38;5;241;43m2\u001b[39;49m\u001b[43m,\u001b[49m\u001b[38;5;241;43m3\u001b[39;49m\u001b[43m,\u001b[49m\u001b[38;5;241;43m4\u001b[39;49m\u001b[43m,\u001b[49m\u001b[38;5;241;43m5\u001b[39;49m\u001b[43m]\u001b[49m\u001b[43m,\u001b[49m\u001b[43m \u001b[49m\u001b[38;5;241;43m2\u001b[39;49m\u001b[43m,\u001b[49m\u001b[43m \u001b[49m\u001b[38;5;241;43m4\u001b[39;49m\u001b[43m)\u001b[49m\n",
      "Cell \u001b[1;32mIn[8], line 12\u001b[0m, in \u001b[0;36mreverseLL\u001b[1;34m(head, left, right)\u001b[0m\n\u001b[0;32m     10\u001b[0m \u001b[38;5;66;03m# reach node at position left\u001b[39;00m\n\u001b[0;32m     11\u001b[0m \u001b[38;5;28;01mfor\u001b[39;00m i \u001b[38;5;129;01min\u001b[39;00m \u001b[38;5;28mrange\u001b[39m(left\u001b[38;5;241m-\u001b[39m\u001b[38;5;241m1\u001b[39m):\n\u001b[1;32m---> 12\u001b[0m   leftPrev, cur \u001b[38;5;241m=\u001b[39m cur, \u001b[43mcur\u001b[49m\u001b[38;5;241;43m.\u001b[39;49m\u001b[43mnext\u001b[49m\n\u001b[0;32m     14\u001b[0m \u001b[38;5;66;03m#reverse\u001b[39;00m\n\u001b[0;32m     15\u001b[0m prev \u001b[38;5;241m=\u001b[39m \u001b[38;5;28;01mNone\u001b[39;00m\n",
      "\u001b[1;31mAttributeError\u001b[0m: 'list' object has no attribute 'next'"
     ]
    }
   ],
   "source": [
    "reverseLL([1,2,3,4,5], 2, 4)"
   ]
  },
  {
   "cell_type": "code",
   "execution_count": 11,
   "metadata": {},
   "outputs": [
    {
     "name": "stdout",
     "output_type": "stream",
     "text": [
      "1 -> 4 -> 3 -> 2 -> 5 -> "
     ]
    }
   ],
   "source": [
    "# Create a linked list\n",
    "nodes = [ListNode(val) for val in [1, 2, 3, 4, 5]]\n",
    "for i in range(len(nodes) - 1):\n",
    "    nodes[i].next = nodes[i + 1]\n",
    "\n",
    "# Call the function with the linked list\n",
    "new_head = reverseLL(nodes[0], 2, 4)\n",
    "\n",
    "# Print the reversed linked list\n",
    "while new_head:\n",
    "    print(new_head.val, end=\" -> \")\n",
    "    new_head = new_head.next\n"
   ]
  },
  {
   "cell_type": "code",
   "execution_count": null,
   "metadata": {},
   "outputs": [],
   "source": []
  },
  {
   "cell_type": "markdown",
   "metadata": {},
   "source": []
  },
  {
   "cell_type": "code",
   "execution_count": 12,
   "metadata": {},
   "outputs": [],
   "source": [
    "def reverse(head):\n",
    "  prev, cur = None, head\n",
    "\n",
    "  while cur:\n",
    "    tmp = cur.next\n",
    "    cur.next = prev\n",
    "    prev = cur\n",
    "    cur = tmp\n",
    "  return prev"
   ]
  },
  {
   "cell_type": "code",
   "execution_count": 13,
   "metadata": {},
   "outputs": [],
   "source": [
    "head = [1,2,3,4,5]\n",
    "nodes = [ListNode(val) for val in head]\n",
    "\n",
    "for i in range(len(nodes)-1):\n",
    "  nodes[i].next = nodes[i+1]\n",
    "\n",
    "new_head = reverse(nodes[0])"
   ]
  },
  {
   "cell_type": "code",
   "execution_count": 15,
   "metadata": {},
   "outputs": [
    {
     "name": "stdout",
     "output_type": "stream",
     "text": [
      "5->4->3->2->1->"
     ]
    }
   ],
   "source": [
    "while new_head:\n",
    "  print(new_head.val, end='->')\n",
    "  new_head = new_head.next"
   ]
  },
  {
   "cell_type": "code",
   "execution_count": null,
   "metadata": {},
   "outputs": [],
   "source": []
  },
  {
   "cell_type": "markdown",
   "metadata": {},
   "source": []
  },
  {
   "cell_type": "code",
   "execution_count": 18,
   "metadata": {},
   "outputs": [],
   "source": [
    "def remove_ele(head, val):\n",
    "  dummy = ListNode(val = 0, next=head) #next element must be head\n",
    "\n",
    "  prev, cur = dummy, head\n",
    "\n",
    "  while cur:  # until cur if None\n",
    "    tmp = cur.next\n",
    "\n",
    "    if cur.val == val:\n",
    "      prev.next = tmp # we remove cur node but before that we need to point prev.next to cur.next\n",
    "    else:\n",
    "      prev = cur\n",
    "\n",
    "    cur = tmp # we move cur in every condition\n",
    "\n",
    "  return dummy.next # it will be pointing from head  "
   ]
  },
  {
   "cell_type": "code",
   "execution_count": 20,
   "metadata": {},
   "outputs": [
    {
     "name": "stdout",
     "output_type": "stream",
     "text": [
      "1-->2-->3-->4-->5-->"
     ]
    }
   ],
   "source": [
    "li = [1,2,3,6,4,5,6]\n",
    "nodes = [ListNode(v) for v in li]\n",
    "\n",
    "for i in range(len(nodes)-1):\n",
    "  nodes[i].next = nodes[i+1]\n",
    "\n",
    "res = remove_ele(nodes[0], 6)\n",
    "\n",
    "while res:\n",
    "  print(res.val, end='-->')\n",
    "  res = res.next"
   ]
  },
  {
   "cell_type": "code",
   "execution_count": null,
   "metadata": {},
   "outputs": [],
   "source": []
  },
  {
   "cell_type": "markdown",
   "metadata": {},
   "source": []
  },
  {
   "cell_type": "code",
   "execution_count": 23,
   "metadata": {},
   "outputs": [],
   "source": [
    "def hasCycle(head):\n",
    "  slow, fast = head, head\n",
    "\n",
    "  while fast and fast.next:  # this is fast moving pointer so should not be null\n",
    "    slow = slow.next\n",
    "    fast = fast.next.next\n",
    "\n",
    "    if slow == fast:\n",
    "      return True\n",
    "\n",
    "  return False  # do not have cycle if NUll value is reached by fast pointer\n"
   ]
  },
  {
   "cell_type": "code",
   "execution_count": 21,
   "metadata": {},
   "outputs": [],
   "source": [
    "li = [1,2,3,6,4]\n",
    "nodes = [ListNode(v) for v in li]\n",
    "\n",
    "for i in range(len(nodes)-1):\n",
    "  nodes[i].next = nodes[i+1]\n",
    "\n",
    "nodes[-1].next = nodes[1]\n"
   ]
  },
  {
   "cell_type": "code",
   "execution_count": 16,
   "metadata": {},
   "outputs": [
    {
     "data": {
      "text/plain": [
       "[<__main__.ListNode at 0x2e40b3d8970>,\n",
       " <__main__.ListNode at 0x2e40b3d94e0>,\n",
       " <__main__.ListNode at 0x2e40b3da7a0>,\n",
       " <__main__.ListNode at 0x2e40b3d9210>]"
      ]
     },
     "execution_count": 16,
     "metadata": {},
     "output_type": "execute_result"
    }
   ],
   "source": [
    "head"
   ]
  },
  {
   "cell_type": "code",
   "execution_count": 25,
   "metadata": {},
   "outputs": [
    {
     "data": {
      "text/plain": [
       "True"
      ]
     },
     "execution_count": 25,
     "metadata": {},
     "output_type": "execute_result"
    }
   ],
   "source": [
    "hasCycle(nodes[0])"
   ]
  },
  {
   "cell_type": "code",
   "execution_count": null,
   "metadata": {},
   "outputs": [],
   "source": []
  },
  {
   "cell_type": "markdown",
   "metadata": {},
   "source": [
    "Merge Two Sorted Lists "
   ]
  },
  {
   "cell_type": "code",
   "execution_count": 32,
   "metadata": {},
   "outputs": [],
   "source": [
    "def merge(l1, l2):\n",
    "  dummy = ListNode(0, next=None)\n",
    "  tail =dummy\n",
    "\n",
    "  while l1 and l2: # both are non Null\n",
    "    if l1.val < l2.val:\n",
    "      tail.next = l1\n",
    "      l1 = l1.next\n",
    "    \n",
    "    else:   # l2.val <= l1.val   we can keep preference for l2 node when their values are same\n",
    "      tail.next = l2\n",
    "      l2 = l2.next\n",
    "\n",
    "    tail = tail.next\n",
    "  \n",
    "  if l1:  #only l1 remaining\n",
    "    tail.next = l1\n",
    "  elif l2:\n",
    "    tail.next = l2\n",
    "  \n",
    "  return dummy.next"
   ]
  },
  {
   "cell_type": "code",
   "execution_count": 33,
   "metadata": {},
   "outputs": [
    {
     "name": "stdout",
     "output_type": "stream",
     "text": [
      "1-->1-->2-->3-->4-->4-->"
     ]
    }
   ],
   "source": [
    "li = [1,2,4]\n",
    "l1 = [ListNode(v) for v in li]\n",
    "\n",
    "for i in range(len(l1)-1):\n",
    "  l1[i].next = l1[i+1]\n",
    "\n",
    "li = [1,3,4]\n",
    "l2 = [ListNode(v) for v in li]\n",
    "\n",
    "for i in range(len(l2)-1):\n",
    "  l2[i].next = l2[i+1]\n",
    "\n",
    "\n",
    "res = merge(l1[0], l2[0])\n",
    "\n",
    "while res:\n",
    "  print(res.val, end='-->')\n",
    "  res = res.next"
   ]
  },
  {
   "cell_type": "code",
   "execution_count": null,
   "metadata": {},
   "outputs": [],
   "source": []
  },
  {
   "cell_type": "markdown",
   "metadata": {},
   "source": []
  },
  {
   "cell_type": "code",
   "execution_count": 44,
   "metadata": {},
   "outputs": [],
   "source": [
    "def removeCycle(head):\n",
    "  slow, fast  = head, head\n",
    "\n",
    "  while fast and fast.next:\n",
    "    tmp = fast\n",
    "    slow = slow.next\n",
    "    fast = fast.next.next\n",
    "    if slow == fast:\n",
    "      tmp.next.next.next = None\n",
    "      return head\n",
    "    \n",
    "  return head\n",
    "      \n"
   ]
  },
  {
   "cell_type": "code",
   "execution_count": 45,
   "metadata": {},
   "outputs": [],
   "source": [
    "li = [1,2,3,6,4]\n",
    "nodes = [ListNode(v) for v in li]\n",
    "\n",
    "for i in range(len(nodes)-1):\n",
    "  nodes[i].next = nodes[i+1]\n",
    "\n",
    "nodes[-1].next = nodes[1]\n",
    "\n",
    "\n",
    "res = removeCycle(nodes[0])"
   ]
  },
  {
   "cell_type": "code",
   "execution_count": 46,
   "metadata": {},
   "outputs": [
    {
     "name": "stdout",
     "output_type": "stream",
     "text": [
      "1-->2-->3-->6-->4-->"
     ]
    }
   ],
   "source": [
    "while res:\n",
    "  print(res.val, end='-->')\n",
    "  res = res.next"
   ]
  },
  {
   "cell_type": "markdown",
   "metadata": {},
   "source": []
  },
  {
   "cell_type": "markdown",
   "metadata": {},
   "source": [
    "**Merge K Sorted Lists**"
   ]
  },
  {
   "cell_type": "markdown",
   "metadata": {},
   "source": [
    "**Working on leetcode**"
   ]
  },
  {
   "cell_type": "code",
   "execution_count": 140,
   "metadata": {},
   "outputs": [],
   "source": [
    "def mergesorted_list(l1,l2):\n",
    "    dummy = ListNode(0)\n",
    "    tail = dummy\n",
    "\n",
    "    while l1 and l2:\n",
    "      if l1.val < l2.val:\n",
    "        tail.next = l1\n",
    "        l1 = l1.next\n",
    "      \n",
    "      else:\n",
    "        tail.next = l2\n",
    "        l2 = l2.next\n",
    "\n",
    "      tail = tail.next\n",
    "    \n",
    "    if l1:\n",
    "      tail.next = l1\n",
    "    if l2:\n",
    "      tail.next = l2\n",
    "    return dummy.next\n",
    "\n",
    "def mergedklists(lists):\n",
    "  if not lists or len(lists) ==0:\n",
    "    return None\n",
    "\n",
    "  while len(lists) > 1 :\n",
    "    merge_list = []\n",
    "\n",
    "    for i in range(0, len(lists), 2):\n",
    "      l1 = lists[i]\n",
    "      l2 = lists[i+1] if (i+1) < len(lists) else None\n",
    "\n",
    "      if l2 is None:\n",
    "        merge_list.append(mergesorted_list(l1,None)) \n",
    "      else:\n",
    "        merge_list.append(mergesorted_list(l1,l2))\n",
    "\n",
    "    lists = merge_list\n",
    "\n",
    "  return lists[0]"
   ]
  },
  {
   "cell_type": "code",
   "execution_count": 141,
   "metadata": {},
   "outputs": [],
   "source": [
    "lists = [[1,4,5],[1,3,4],[2,6]]\n",
    "\n",
    "nodes1 = [ListNode(v) for v in lists[0]]\n",
    "\n",
    "for i in range(len(nodes1)-1):\n",
    "  nodes1[i].next = nodes1[i+1]\n",
    "\n",
    "nodes2 = [ListNode(v) for v in lists[1]]\n",
    "\n",
    "for i in range(len(nodes2)-1):\n",
    "  nodes2[i].next = nodes2[i+1]\n",
    "\n",
    "nodes3 = [ListNode(v) for v in lists[2]]\n",
    "\n",
    "for i in range(len(nodes3)-1):\n",
    "  nodes3[i].next = nodes3[i+1]"
   ]
  },
  {
   "cell_type": "code",
   "execution_count": 142,
   "metadata": {},
   "outputs": [],
   "source": [
    "LL_list = []\n",
    "\n",
    "LL_list.append(nodes1)\n",
    "LL_list.append(nodes2)\n",
    "LL_list.append(nodes3)"
   ]
  },
  {
   "cell_type": "code",
   "execution_count": 143,
   "metadata": {},
   "outputs": [
    {
     "ename": "AttributeError",
     "evalue": "'list' object has no attribute 'val'",
     "output_type": "error",
     "traceback": [
      "\u001b[1;31m---------------------------------------------------------------------------\u001b[0m",
      "\u001b[1;31mAttributeError\u001b[0m                            Traceback (most recent call last)",
      "Cell \u001b[1;32mIn[143], line 1\u001b[0m\n\u001b[1;32m----> 1\u001b[0m \u001b[43mmergedklists\u001b[49m\u001b[43m(\u001b[49m\u001b[43mLL_list\u001b[49m\u001b[43m)\u001b[49m\n",
      "Cell \u001b[1;32mIn[140], line 47\u001b[0m, in \u001b[0;36mmergedklists\u001b[1;34m(lists)\u001b[0m\n\u001b[0;32m     45\u001b[0m       merge_list\u001b[38;5;241m.\u001b[39mappend(mergesorted_list(l1,\u001b[38;5;28;01mNone\u001b[39;00m)) \n\u001b[0;32m     46\u001b[0m     \u001b[38;5;28;01melse\u001b[39;00m:\n\u001b[1;32m---> 47\u001b[0m       merge_list\u001b[38;5;241m.\u001b[39mappend(\u001b[43mmergesorted_list\u001b[49m\u001b[43m(\u001b[49m\u001b[43ml1\u001b[49m\u001b[43m,\u001b[49m\u001b[43ml2\u001b[49m\u001b[43m)\u001b[49m)\n\u001b[0;32m     49\u001b[0m   lists \u001b[38;5;241m=\u001b[39m merge_list\n\u001b[0;32m     51\u001b[0m \u001b[38;5;28;01mreturn\u001b[39;00m lists[\u001b[38;5;241m0\u001b[39m]\n",
      "Cell \u001b[1;32mIn[140], line 17\u001b[0m, in \u001b[0;36mmergesorted_list\u001b[1;34m(l1, l2)\u001b[0m\n\u001b[0;32m     14\u001b[0m l2 \u001b[38;5;241m=\u001b[39m list2\n\u001b[0;32m     16\u001b[0m \u001b[38;5;28;01mwhile\u001b[39;00m l1 \u001b[38;5;129;01mand\u001b[39;00m l2:\n\u001b[1;32m---> 17\u001b[0m   \u001b[38;5;28;01mif\u001b[39;00m \u001b[43ml1\u001b[49m\u001b[38;5;241;43m.\u001b[39;49m\u001b[43mval\u001b[49m \u001b[38;5;241m<\u001b[39m l2\u001b[38;5;241m.\u001b[39mval:\n\u001b[0;32m     18\u001b[0m     tail\u001b[38;5;241m.\u001b[39mnext \u001b[38;5;241m=\u001b[39m l1\n\u001b[0;32m     19\u001b[0m     l1 \u001b[38;5;241m=\u001b[39m l1\u001b[38;5;241m.\u001b[39mnext\n",
      "\u001b[1;31mAttributeError\u001b[0m: 'list' object has no attribute 'val'"
     ]
    }
   ],
   "source": [
    "mergedklists(LL_list)"
   ]
  },
  {
   "cell_type": "code",
   "execution_count": null,
   "metadata": {},
   "outputs": [],
   "source": []
  },
  {
   "cell_type": "code",
   "execution_count": 188,
   "metadata": {},
   "outputs": [],
   "source": [
    "def addTwonum(l1,l2):\n",
    "  dummy = ListNode()\n",
    "  cur = dummy\n",
    "\n",
    "  carry = 0\n",
    "\n",
    "  while l1 or l2 or carry:  # added carry as to add edge case of (7) + (8)\n",
    "    v1 = l1.val if l1 else 0\n",
    "    v2 = l2.val if l2 else 0\n",
    "\n",
    "    #new digit\n",
    "    val = v1 + v2 + carry\n",
    "    carry = val//10\n",
    "    val = val % 10\n",
    "\n",
    "    cur.next = ListNode(val)\n",
    "\n",
    "    #update\n",
    "    cur = cur.next\n",
    "    l1 = l1.next if l1 else None\n",
    "    l2 = l2.next if l1 else None\n",
    "  #if carry:   # instead of here we have added as or condition above in loop\n",
    "  #  cur.next = ListNode(carry)\n",
    "  return dummy.next"
   ]
  },
  {
   "cell_type": "code",
   "execution_count": 185,
   "metadata": {},
   "outputs": [],
   "source": [
    "lists = [[1,4,5],[1,3,4],[2,6]]\n",
    "\n",
    "nodes1 = [ListNode(v) for v in lists[0]]\n",
    "\n",
    "for i in range(len(nodes1)-1):\n",
    "  nodes1[i].next = nodes1[i+1]\n",
    "\n",
    "nodes2 = [ListNode(v) for v in lists[1]]\n",
    "\n",
    "for i in range(len(nodes2)-1):\n",
    "  nodes2[i].next = nodes2[i+1]"
   ]
  },
  {
   "cell_type": "code",
   "execution_count": 186,
   "metadata": {},
   "outputs": [],
   "source": [
    "res = addTwonum(nodes1[0],nodes2[0])"
   ]
  },
  {
   "cell_type": "code",
   "execution_count": 187,
   "metadata": {},
   "outputs": [
    {
     "name": "stdout",
     "output_type": "stream",
     "text": [
      "2-->7-->9-->"
     ]
    }
   ],
   "source": [
    "while res:\n",
    "  print(res.val, end='-->')\n",
    "  res = res.next"
   ]
  },
  {
   "cell_type": "code",
   "execution_count": null,
   "metadata": {},
   "outputs": [],
   "source": []
  },
  {
   "cell_type": "markdown",
   "metadata": {},
   "source": []
  },
  {
   "cell_type": "code",
   "execution_count": 189,
   "metadata": {},
   "outputs": [],
   "source": [
    "def Swap_nth_from_last(head, n):\n",
    "  slow, fast = head,head\n",
    "  for i in range(n):\n",
    "    if fast.next == None:\n",
    "      if i==n-1:\n",
    "        head = head.next # remove head node as it is the nth from end, which means n given is equal to length of LL\n",
    "      return head\n",
    "    fast = fast.next # take the fast pointer till n index\n",
    "\n",
    "  while fast.next is not None:\n",
    "    slow = slow.next   # we move both \n",
    "    fast = fast.next   # we do this to keep distance between them as conatant which is equal to n\n",
    "  \n",
    "  if slow.next is not None:\n",
    "    #removing nth element from last\n",
    "    slow.next = slow.next.next\n",
    "  return head"
   ]
  },
  {
   "cell_type": "code",
   "execution_count": 191,
   "metadata": {},
   "outputs": [
    {
     "name": "stdout",
     "output_type": "stream",
     "text": [
      "1-->2-->3-->4-->"
     ]
    }
   ],
   "source": [
    "li = [1,2,3,6,4]\n",
    "nodes = [ListNode(v) for v in li]\n",
    "\n",
    "for i in range(len(nodes)-1):\n",
    "  nodes[i].next = nodes[i+1]\n",
    "\n",
    "\n",
    "res = Swap_nth_from_last(nodes[0], 2)\n",
    "\n",
    "while res:\n",
    "  print(res.val, end='-->')\n",
    "  res = res.next"
   ]
  },
  {
   "cell_type": "code",
   "execution_count": null,
   "metadata": {},
   "outputs": [],
   "source": []
  },
  {
   "cell_type": "markdown",
   "metadata": {},
   "source": [
    "**Merge sort for linked list**"
   ]
  },
  {
   "cell_type": "code",
   "execution_count": 195,
   "metadata": {},
   "outputs": [],
   "source": [
    "def mergesorted_list(l1,l2):\n",
    "    dummy = ListNode(0)\n",
    "    tail = dummy\n",
    "\n",
    "    while l1 and l2:\n",
    "      if l1.val < l2.val:\n",
    "        tail.next = l1\n",
    "        l1 = l1.next\n",
    "      \n",
    "      else:\n",
    "        tail.next = l2\n",
    "        l2 = l2.next\n",
    "\n",
    "      tail = tail.next\n",
    "    \n",
    "    if l1:\n",
    "      tail.next = l1\n",
    "    if l2:\n",
    "      tail.next = l2\n",
    "    return dummy.next"
   ]
  },
  {
   "cell_type": "code",
   "execution_count": 196,
   "metadata": {},
   "outputs": [],
   "source": [
    "def mergesort_LL(li):\n",
    "  nodes = [ListNode(val) for val in li]\n",
    "  while len(nodes)>1:\n",
    "    m_lists = []\n",
    "    for i in range(0, len(nodes), 2):\n",
    "      l1 = nodes[i]\n",
    "      l2 = nodes[i+1] if i+1<len(nodes) else None\n",
    "\n",
    "      m_lists.append(mergesorted_list(l1,l2))\n",
    "    nodes = m_lists\n",
    "  return nodes[0]"
   ]
  },
  {
   "cell_type": "code",
   "execution_count": 197,
   "metadata": {},
   "outputs": [],
   "source": [
    "li = [1,2,3,6,4]\n",
    "\n",
    "res = mergesort_LL(li)   #nodes[0]"
   ]
  },
  {
   "cell_type": "code",
   "execution_count": 198,
   "metadata": {},
   "outputs": [
    {
     "name": "stdout",
     "output_type": "stream",
     "text": [
      "1-->2-->3-->4-->6-->"
     ]
    }
   ],
   "source": [
    "while res:\n",
    "  print(res.val, end='-->')\n",
    "  res = res.next"
   ]
  },
  {
   "cell_type": "code",
   "execution_count": null,
   "metadata": {},
   "outputs": [],
   "source": []
  },
  {
   "cell_type": "markdown",
   "metadata": {},
   "source": [
    "1609 · Middle of the Linked List"
   ]
  },
  {
   "cell_type": "markdown",
   "metadata": {},
   "source": [
    "Input: 1->2->3->4->5->null\n",
    "Output: 3->4->5->null\n",
    "\n",
    "Input: 1->2->3->4->5->6->null\n",
    "Output: 4->5->6->null"
   ]
  },
  {
   "cell_type": "code",
   "execution_count": 1,
   "metadata": {},
   "outputs": [],
   "source": [
    "class ListNode(object):\n",
    "    def __init__(self, val, next=None):\n",
    "        self.val = val\n",
    "        self.next = next\n",
    "\n",
    "def Middle_Node(head):\n",
    "  slow, fast = head, head\n",
    "\n",
    "  while fast.next and fast.next.next:\n",
    "    slow = slow.next\n",
    "    fast = fast.next.next\n",
    "\n",
    "  if not fast.next:\n",
    "    return slow #odd LL\n",
    "  if not fast.next.next:\n",
    "    return slow.next  #even LL"
   ]
  },
  {
   "cell_type": "code",
   "execution_count": 2,
   "metadata": {},
   "outputs": [],
   "source": [
    "li = [1,2,3,4,5,6]\n",
    "nodes = [ListNode(val) for val in li]\n",
    "\n",
    "for i in range(len(nodes)):\n",
    "  if i != len(nodes)-1:\n",
    "    nodes[i].next = nodes[i+1]\n",
    "\n",
    "res = Middle_Node(nodes[0])\n"
   ]
  },
  {
   "cell_type": "code",
   "execution_count": 3,
   "metadata": {},
   "outputs": [
    {
     "name": "stdout",
     "output_type": "stream",
     "text": [
      "4-->5-->6-->"
     ]
    }
   ],
   "source": [
    "while res:\n",
    "  print(res.val, end='-->')\n",
    "  res = res.next"
   ]
  },
  {
   "cell_type": "code",
   "execution_count": null,
   "metadata": {},
   "outputs": [],
   "source": []
  },
  {
   "cell_type": "markdown",
   "metadata": {},
   "source": [
    "**2816. Double a Number Represented as a Linked List**"
   ]
  },
  {
   "cell_type": "code",
   "execution_count": 9,
   "metadata": {},
   "outputs": [],
   "source": [
    "class ListNode:\n",
    "    def __init__(self, val=0, next=None):\n",
    "        self.val = val\n",
    "        self.next = next\n",
    "\n",
    "def double_it(head):\n",
    "\n",
    "  def dfs(node):\n",
    "    vali = (2* node.val) + (dfs(node.next) if node.next else 0)\n",
    "\n",
    "    node.val = vali%10\n",
    "    return vali//10\n",
    "\n",
    "  return ListNode(1,head) if dfs(head) else head"
   ]
  },
  {
   "cell_type": "code",
   "execution_count": 10,
   "metadata": {},
   "outputs": [],
   "source": [
    "head = [1,8,9]\n",
    "\n",
    "nodes = [ListNode(m) for m in head]\n",
    "for i in range(len(head)-1):\n",
    "  nodes[i].next = nodes[i+1]"
   ]
  },
  {
   "cell_type": "code",
   "execution_count": 11,
   "metadata": {},
   "outputs": [],
   "source": [
    "res = double_it(nodes[0])"
   ]
  },
  {
   "cell_type": "code",
   "execution_count": 12,
   "metadata": {},
   "outputs": [
    {
     "name": "stdout",
     "output_type": "stream",
     "text": [
      "3-->7-->8-->"
     ]
    }
   ],
   "source": [
    "while res:\n",
    "  print(res.val, end='-->')\n",
    "  res = res.next"
   ]
  },
  {
   "cell_type": "code",
   "execution_count": 15,
   "metadata": {},
   "outputs": [
    {
     "name": "stdout",
     "output_type": "stream",
     "text": [
      "2-->0-->0-->"
     ]
    }
   ],
   "source": [
    "head = [1,0,0]\n",
    "nodes = [ListNode(m) for m in head]\n",
    "for i in range(len(head)-1):\n",
    "  nodes[i].next = nodes[i+1]\n",
    "\n",
    "res = double_it(nodes[0])\n",
    "while res:\n",
    "  print(res.val, end='-->')\n",
    "  res = res.next"
   ]
  },
  {
   "cell_type": "code",
   "execution_count": null,
   "metadata": {},
   "outputs": [],
   "source": []
  },
  {
   "cell_type": "markdown",
   "metadata": {},
   "source": [
    "**2807. Insert Greatest Common Divisors in Linked List**"
   ]
  },
  {
   "cell_type": "code",
   "execution_count": 16,
   "metadata": {},
   "outputs": [],
   "source": [
    "import math\n",
    "class ListNode:\n",
    "    def __init__(self, val=0, next=None):\n",
    "      self.val = val\n",
    "      self.next = next\n",
    "\n",
    "def insertGreatestCommonDivisors(head):\n",
    "  prevNode = head\n",
    "  nextNode = head.next\n",
    "\n",
    "  while prevNode is not None and nextNode is not None:\n",
    "\n",
    "    node = ListNode(math.gcd(prevNode.val, nextNode.val))\n",
    "    \n",
    "    prevNode.next = node\n",
    "    node.next = nextNode\n",
    "\n",
    "    prevNode = nextNode\n",
    "    nextNode = prevNode.next\n",
    "  return head\n",
    "\n"
   ]
  },
  {
   "cell_type": "code",
   "execution_count": null,
   "metadata": {},
   "outputs": [],
   "source": []
  },
  {
   "cell_type": "code",
   "execution_count": null,
   "metadata": {},
   "outputs": [],
   "source": [
    "class Solution:\n",
    "    def maxDotProduct(self, nums1: List[int], nums2: List[int]) -> int:\n",
    "        def dot_prod(l1, l2):\n",
    "            value = []\n",
    "            for x,y in zip(l1,l2):\n",
    "                value.append(x*y)\n",
    "               #value+= x*y\n",
    "            return value\n",
    "\n",
    "        n = len(nums1)\n",
    "        m = len(nums2)\n",
    "        ans = []\n",
    "        def backtrack(i,j,l1,l2, sumi):\n",
    "            if i>=n or j>=m:\n",
    "                ans.append(sumi)\n",
    "                return #sumi\n",
    "\n",
    "            if l1[i] * l2[j] < 0:\n",
    "                backtrack(i+1,j,l1,l2, sumi)\n",
    "                backtrack(i,j+1,l1,l2, sumi)\n",
    "            \n",
    "            else:\n",
    "                sumi += l1[i] * l2[j]\n",
    "                backtrack(i+1,j+1,l1,l2, sumi)\n",
    "                sumi -= l1[i] * l2[j]\n",
    "                backtrack(i,j+1,l1,l2, sumi)\n",
    "                backtrack(i+1,j,l1,l2, sumi)\n",
    "        \n",
    "        backtrack(0,0,nums1,nums2,0)\n",
    "        \n",
    "        val = max(ans)\n",
    "        if val ==0:\n",
    "            li = dot_prod(nums1, nums2)\n",
    "            val = min(li)\n",
    "\n",
    "\n",
    "        return val #max(ans) \n",
    "\n",
    "\n",
    "\n",
    "        "
   ]
  },
  {
   "cell_type": "code",
   "execution_count": null,
   "metadata": {},
   "outputs": [],
   "source": [
    "class Solution:\n",
    "    def numOfArrays(self, n: int, m: int, k: int) -> int:\n",
    "        \n",
    "        MOD = 10**9 + 7\n",
    "\n",
    "        def helper(indx, curr_max, cost, m, dp):\n",
    "\n",
    "            tpl = (indx, curr_max, cost)\n",
    "\n",
    "            if tpl in dp:\n",
    "                return dp[tpl]\n",
    "\n",
    "            if indx == 1 and cost == 1:\n",
    "                return 1\n",
    "            elif indx == 1 or cost == 0:\n",
    "                return 0\n",
    "            \n",
    "            numberWays = 0\n",
    "\n",
    "            for j in range(1, m+1):\n",
    "                if j <= curr_max:\n",
    "                    numberWays += helper(indx-1, curr_max, cost, m, dp)\n",
    "                else:\n",
    "                    numberWays += helper(indx-1, j, cost-1, m, dp)\n",
    "            dp[tpl] = numberWays % MOD\n",
    "\n",
    "            return dp[tpl]\n",
    "\n",
    "        ans = 0\n",
    "\n",
    "        dp = {}\n",
    "\n",
    "        for j in range(1, m+1):\n",
    "            ans = (ans + helper(n, j, k, m, dp)) % MOD\n",
    "            \n",
    "        return ans"
   ]
  },
  {
   "cell_type": "code",
   "execution_count": null,
   "metadata": {},
   "outputs": [],
   "source": []
  },
  {
   "cell_type": "code",
   "execution_count": null,
   "metadata": {},
   "outputs": [],
   "source": [
    "from collections import Counter\n",
    "\n",
    "def min_operations(a, k):\n",
    "    counts = Counter(a)\n",
    "\n",
    "    # Check for impossibility based on remainders\n",
    "    if not all(num % k == a[0] % k for num in a):\n",
    "        return -1\n",
    "\n",
    "    ops = 0\n",
    "    while len(counts) > 1:\n",
    "        for x in list(counts):  # Iterate over a copy to avoid modification during iteration\n",
    "            y, z = (x + k - x // 2, x // 2)  # Prioritize balanced y and z\n",
    "            if y > 0 and z > 0 and y not in counts and z not in counts:\n",
    "                counts[y] += 1\n",
    "                counts[z] += 1\n",
    "                counts[x] -= 1\n",
    "                if counts[x] == 0:\n",
    "                    del counts[x]\n",
    "                ops += 1\n",
    "                break  # Move to the next iteration if a valid operation was found\n",
    "\n",
    "    return ops\n",
    "\n",
    "if __name__ == \"__main__\":\n",
    "    t = int(input())\n",
    "    for _ in range(t):\n",
    "        n, k = map(int, input().split())\n",
    "        a = list(map(int, input().split()))\n",
    "        result = min_operations(a, k)\n",
    "        print(result)"
   ]
  },
  {
   "cell_type": "code",
   "execution_count": null,
   "metadata": {},
   "outputs": [],
   "source": []
  },
  {
   "cell_type": "code",
   "execution_count": null,
   "metadata": {},
   "outputs": [],
   "source": []
  }
 ],
 "metadata": {
  "kernelspec": {
   "display_name": "Python 3.10.4 64-bit",
   "language": "python",
   "name": "python3"
  },
  "language_info": {
   "codemirror_mode": {
    "name": "ipython",
    "version": 3
   },
   "file_extension": ".py",
   "mimetype": "text/x-python",
   "name": "python",
   "nbconvert_exporter": "python",
   "pygments_lexer": "ipython3",
   "version": "3.10.4"
  },
  "orig_nbformat": 4,
  "vscode": {
   "interpreter": {
    "hash": "e8899eb02dfbc033aab5733bdae1bd213fa031d40331094008e8673d99ebab63"
   }
  }
 },
 "nbformat": 4,
 "nbformat_minor": 2
}
