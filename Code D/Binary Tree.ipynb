{
 "cells": [
  {
   "cell_type": "markdown",
   "metadata": {},
   "source": []
  },
  {
   "cell_type": "code",
   "execution_count": 3,
   "metadata": {},
   "outputs": [],
   "source": [
    "class Node( ):\n",
    "  def __init__(self, val= 0, left = None, right = None):\n",
    "\n",
    "   # super().__init__()\n",
    "    self.val = val\n",
    "    self.left = left\n",
    "    self.right = right"
   ]
  },
  {
   "cell_type": "code",
   "execution_count": 1,
   "metadata": {},
   "outputs": [],
   "source": [
    "def maxdepth(root):\n",
    "  if root is None:\n",
    "    return\n",
    "  \n",
    "  else:\n",
    "    rh = maxdepth(root.right)\n",
    "    lh = maxdepth(root.left)\n",
    "\n",
    "  return max(rh, lh) + 1"
   ]
  },
  {
   "cell_type": "code",
   "execution_count": 11,
   "metadata": {},
   "outputs": [],
   "source": [
    "root = [3,9,20,None,None,15,7] # [3,9,20,null,null,15,7]\n",
    "maxdepth(root)"
   ]
  },
  {
   "cell_type": "code",
   "execution_count": null,
   "metadata": {},
   "outputs": [],
   "source": []
  },
  {
   "cell_type": "markdown",
   "metadata": {},
   "source": [
    "Reverse Level Order Traversal"
   ]
  },
  {
   "cell_type": "code",
   "execution_count": 38,
   "metadata": {},
   "outputs": [],
   "source": [
    "def reverseLevelOrder(root):\n",
    "  if root is None:\n",
    "    return\n",
    "  \n",
    "  ans = []\n",
    "  q = []\n",
    "\n",
    "  q.append(root)\n",
    "\n",
    "  while q:\n",
    "    ans.append(q[0].val)\n",
    "    node = q.pop(0)\n",
    "    \n",
    "    if node.left is not None:\n",
    "      q.append(node.left)\n",
    "    if node.right is not None:\n",
    "      q.append(node.right)\n",
    "\n",
    "  return ans[::-1]"
   ]
  },
  {
   "cell_type": "code",
   "execution_count": 39,
   "metadata": {},
   "outputs": [],
   "source": [
    "root = TreeNode(1)\n",
    "root.left = TreeNode(2)\n",
    "root.right = TreeNode(3)\n",
    "root.left.left = TreeNode(4)\n",
    "root.left.right = TreeNode(5)\n",
    "#             1\n",
    "#        2        3\n",
    "#      4   5"
   ]
  },
  {
   "cell_type": "code",
   "execution_count": 40,
   "metadata": {},
   "outputs": [
    {
     "data": {
      "text/plain": [
       "[5, 4, 3, 2, 1]"
      ]
     },
     "execution_count": 40,
     "metadata": {},
     "output_type": "execute_result"
    }
   ],
   "source": [
    "reverseLevelOrder(root)"
   ]
  },
  {
   "cell_type": "code",
   "execution_count": null,
   "metadata": {},
   "outputs": [],
   "source": []
  },
  {
   "cell_type": "markdown",
   "metadata": {},
   "source": []
  },
  {
   "cell_type": "code",
   "execution_count": 44,
   "metadata": {},
   "outputs": [],
   "source": [
    "def are_identical(root1, root2):\n",
    "  if root1 is None and root2 is None:\n",
    "    return True\n",
    "  if root1 is None or root2 is None:\n",
    "    return False\n",
    "  return root1.val == root2.val and are_identical(root1.left, root2.left) and are_identical(root1.right, root2.right)\n",
    "\n",
    "def issubtree(T, S):\n",
    "  if T is None and S is not None:\n",
    "    return False\n",
    "  if T is not None and S is None:\n",
    "    return True\n",
    "  \n",
    "  if are_identical(T,S):\n",
    "    return True\n",
    "  \n",
    "  return issubtree(T.left,S) or issubtree(T.right,S)"
   ]
  },
  {
   "cell_type": "code",
   "execution_count": 45,
   "metadata": {},
   "outputs": [
    {
     "name": "stdout",
     "output_type": "stream",
     "text": [
      "Tree 2 is subtree of Tree 1\n"
     ]
    }
   ],
   "source": [
    "# Driver program to test above function\n",
    " \n",
    "\"\"\" TREE 1\n",
    "     Construct the following tree\n",
    "              26\n",
    "            /   \\\n",
    "          10     3\n",
    "        /    \\     \\\n",
    "      4      6      3\n",
    "       \\\n",
    "        30\n",
    "    \"\"\"\n",
    " \n",
    "T = Node(26)\n",
    "T.right = Node(3)\n",
    "T.right.right  = Node(3)\n",
    "T.left = Node(10)\n",
    "T.left.left = Node(4)\n",
    "T.left.left.right = Node(30)\n",
    "T.left.right = Node(6)\n",
    " \n",
    "\"\"\" TREE 2\n",
    "     Construct the following tree\n",
    "          10\n",
    "        /    \\\n",
    "      4      6\n",
    "       \\\n",
    "        30\n",
    "    \"\"\"\n",
    "S = Node(10)\n",
    "S.right = Node(6)\n",
    "S.left = Node(4)\n",
    "S.left.right = Node(30)\n",
    " \n",
    "if issubtree(T, S):\n",
    "    print (\"Tree 2 is subtree of Tree 1\")\n",
    "else :\n",
    "    print (\"Tree 2 is not a subtree of Tree 1\")"
   ]
  },
  {
   "cell_type": "code",
   "execution_count": null,
   "metadata": {},
   "outputs": [],
   "source": []
  },
  {
   "cell_type": "markdown",
   "metadata": {},
   "source": [
    "Left View of Binary Tree"
   ]
  },
  {
   "cell_type": "code",
   "execution_count": 10,
   "metadata": {},
   "outputs": [],
   "source": [
    "def leftview(root):\n",
    "  if root is None: return\n",
    "\n",
    "  q = []\n",
    "  ans = []\n",
    "  q.append(root)\n",
    "  while q:\n",
    "    left = q[0]\n",
    "    for i in range(len(q)):\n",
    "      node = q.pop(0)   # pop all the values of that level and append their children from left to right order\n",
    "      if node.left is not None:\n",
    "        q.append(node.left)\n",
    "      if node.right is not None:\n",
    "        q.append(node.right)\n",
    "\n",
    "    ans.append(left.val)\n",
    "  return ans"
   ]
  },
  {
   "cell_type": "markdown",
   "metadata": {},
   "source": [
    "Input :\n",
    "        1\n",
    "      /   \\\n",
    "     3     2\n",
    "\n",
    "Output: 3 2 1"
   ]
  },
  {
   "cell_type": "code",
   "execution_count": 9,
   "metadata": {},
   "outputs": [
    {
     "data": {
      "text/plain": [
       "[1, 3]"
      ]
     },
     "execution_count": 9,
     "metadata": {},
     "output_type": "execute_result"
    }
   ],
   "source": [
    "root = Node(1)\n",
    "root.left = Node(3)\n",
    "root.right = Node(2)\n",
    "\n",
    "leftview(root)"
   ]
  },
  {
   "cell_type": "code",
   "execution_count": null,
   "metadata": {},
   "outputs": [],
   "source": []
  },
  {
   "cell_type": "markdown",
   "metadata": {},
   "source": [
    "Create a mirror tree from the given binary tree"
   ]
  },
  {
   "cell_type": "code",
   "execution_count": 4,
   "metadata": {},
   "outputs": [],
   "source": [
    "def mirror(root):\n",
    "  if root is None:\n",
    "    return\n",
    "  \n",
    "  mirror(root.left)\n",
    "  mirror(root.right)\n",
    "  \n",
    "  root.left, root.right = root.right, root.left"
   ]
  },
  {
   "cell_type": "code",
   "execution_count": null,
   "metadata": {},
   "outputs": [],
   "source": []
  },
  {
   "cell_type": "markdown",
   "metadata": {},
   "source": [
    "Inorder Transversal"
   ]
  },
  {
   "cell_type": "code",
   "execution_count": 5,
   "metadata": {},
   "outputs": [],
   "source": [
    "def inorder_trans(root):\n",
    "  if root is not None:\n",
    "    inorder_trans(root.left)\n",
    "    print(root.val)\n",
    "    inorder_trans(root.right)"
   ]
  },
  {
   "cell_type": "code",
   "execution_count": 6,
   "metadata": {},
   "outputs": [
    {
     "name": "stdout",
     "output_type": "stream",
     "text": [
      "Inorder of original tree: \n",
      "2\n",
      "3\n",
      "4\n",
      "5\n",
      "6\n",
      "\n",
      "Inorder of mirror tree: \n",
      "6\n",
      "5\n",
      "4\n",
      "3\n",
      "2\n"
     ]
    }
   ],
   "source": [
    "tree = Node(5)\n",
    "tree.left = Node(3)\n",
    "tree.right = Node(6)\n",
    "tree.left.left = Node(2)\n",
    "tree.left.right = Node(4)\n",
    " \n",
    "# Print inorder traversal of the input tree\n",
    "print(\"Inorder of original tree: \")\n",
    "inorder_trans(tree)\n",
    "\n",
    "mirror(tree)\n",
    " \n",
    "# Print inorder traversal of the mirror tree\n",
    "print(\"\\nInorder of mirror tree: \")\n",
    "inorder_trans(tree)"
   ]
  },
  {
   "cell_type": "code",
   "execution_count": null,
   "metadata": {},
   "outputs": [],
   "source": []
  },
  {
   "cell_type": "markdown",
   "metadata": {},
   "source": [
    "Same Tree"
   ]
  },
  {
   "cell_type": "code",
   "execution_count": 7,
   "metadata": {},
   "outputs": [],
   "source": [
    "def same_tree(p, q):\n",
    "  if not p and not q:\n",
    "    return True\n",
    "  \n",
    "  if not p or not q or p.val!=q.val:\n",
    "    return False\n",
    "  \n",
    "  return (same_tree(p.left, q.left) and same_tree(p.right, q.right))"
   ]
  },
  {
   "cell_type": "code",
   "execution_count": 9,
   "metadata": {},
   "outputs": [
    {
     "data": {
      "text/plain": [
       "True"
      ]
     },
     "execution_count": 9,
     "metadata": {},
     "output_type": "execute_result"
    }
   ],
   "source": [
    "p = Node(1)\n",
    "p.left = Node(2)\n",
    "p.right = Node(3)\n",
    "\n",
    "q = Node(1)\n",
    "q.left = Node(2)\n",
    "q.right = Node(3)\n",
    "\n",
    "same_tree(p, q)"
   ]
  },
  {
   "cell_type": "code",
   "execution_count": null,
   "metadata": {},
   "outputs": [],
   "source": []
  },
  {
   "cell_type": "markdown",
   "metadata": {},
   "source": [
    "Diameter"
   ]
  },
  {
   "cell_type": "code",
   "execution_count": 20,
   "metadata": {},
   "outputs": [],
   "source": [
    "def height(root):\n",
    "  if root is None:\n",
    "    return 0       # remeber to return 0, otherwise it will give nonetype error\n",
    "  return 1+ max(height(root.left), height(root.right))"
   ]
  },
  {
   "cell_type": "code",
   "execution_count": 18,
   "metadata": {},
   "outputs": [],
   "source": [
    "def diameter(root):\n",
    "  if root is None:\n",
    "    return 0\n",
    "  \n",
    "  ld= diameter(root.left)\n",
    "  rd= diameter(root.right)\n",
    "\n",
    "  lh = height(root.left)\n",
    "  rh = height(root.right)\n",
    "\n",
    "  return max((1+lh+rh), max(ld,rd))"
   ]
  },
  {
   "cell_type": "code",
   "execution_count": 19,
   "metadata": {},
   "outputs": [
    {
     "data": {
      "text/plain": [
       "5"
      ]
     },
     "execution_count": 19,
     "metadata": {},
     "output_type": "execute_result"
    }
   ],
   "source": [
    "root = Node(1)\n",
    "root.left = Node(2)\n",
    "root.right = Node(3)\n",
    "root.left.left = Node(4)\n",
    "root.right.left = Node(5)\n",
    "\n",
    "diameter(root)"
   ]
  },
  {
   "cell_type": "code",
   "execution_count": null,
   "metadata": {},
   "outputs": [],
   "source": []
  },
  {
   "cell_type": "markdown",
   "metadata": {},
   "source": []
  },
  {
   "cell_type": "code",
   "execution_count": 31,
   "metadata": {},
   "outputs": [],
   "source": [
    "def lacinbt(root, p,q):\n",
    "  if root is None:\n",
    "    return \n",
    "  \n",
    "  if root.val == p or root.val == q:\n",
    "    return root\n",
    "\n",
    "  left = lacinbt(root.left, p,q)\n",
    "  right = lacinbt(root.right,p,q)\n",
    "\n",
    "  if left and right:\n",
    "    return root\n",
    "\n",
    "  return left if left else right"
   ]
  },
  {
   "cell_type": "code",
   "execution_count": 35,
   "metadata": {},
   "outputs": [],
   "source": [
    "def dist_from_lca(lca, n):\n",
    "  if lca is None:\n",
    "    return -1\n",
    "\n",
    "  if lca.val == n:\n",
    "    return 0\n",
    "\n",
    "  left = dist_from_lca(lca.left, n)\n",
    "  right = dist_from_lca(lca.right, n)\n",
    "  \n",
    "  disti = max(left, right)\n",
    "  return  disti + 1 if disti>=-1 else -1"
   ]
  },
  {
   "cell_type": "code",
   "execution_count": 36,
   "metadata": {},
   "outputs": [],
   "source": [
    "def dist(root, n1, n2):\n",
    "  lca = lacinbt(root, n1, n2)\n",
    "  dist1 = dist_from_lca(lca, n1)\n",
    "  dist2 = dist_from_lca(lca, n2)\n",
    "  return (dist1+dist2) if lca else -1"
   ]
  },
  {
   "cell_type": "code",
   "execution_count": 37,
   "metadata": {},
   "outputs": [
    {
     "data": {
      "text/plain": [
       "2"
      ]
     },
     "execution_count": 37,
     "metadata": {},
     "output_type": "execute_result"
    }
   ],
   "source": [
    "root = Node(1)\n",
    "root.left = Node(3)\n",
    "root.right = Node(2)\n",
    "\n",
    "dist(root, 2, 3)"
   ]
  },
  {
   "cell_type": "code",
   "execution_count": null,
   "metadata": {},
   "outputs": [],
   "source": []
  },
  {
   "cell_type": "markdown",
   "metadata": {},
   "source": [
    "Check for Balanced Tree"
   ]
  },
  {
   "cell_type": "code",
   "execution_count": 43,
   "metadata": {},
   "outputs": [],
   "source": [
    "def height(root):\n",
    "  if root is None:\n",
    "    return 0\n",
    "\n",
    "  lh = height(root.left)\n",
    "  rh = height(root.right)\n",
    "  return max(lh,rh)+1\n",
    "\n",
    "def is_balanced(root):\n",
    "  if root is None:\n",
    "    return True\n",
    "  return is_balanced(root.left) and is_balanced(root.right) and (abs(height(root.left) - height(root.right))) <=1"
   ]
  },
  {
   "cell_type": "code",
   "execution_count": 44,
   "metadata": {},
   "outputs": [
    {
     "name": "stdout",
     "output_type": "stream",
     "text": [
      "Balanced\n"
     ]
    }
   ],
   "source": [
    "root = Node(1)\n",
    "root.left = Node(2)\n",
    "root.right = Node(3)\n",
    "root.left.left = None\n",
    "root.left.right = None\n",
    "root.right.left = Node(6)\n",
    "root.right.right = Node(7)\n",
    "if is_balanced(root):\n",
    "   print(\"Balanced\")\n",
    "else:\n",
    "   print(\"Not Balanced\")"
   ]
  },
  {
   "cell_type": "code",
   "execution_count": null,
   "metadata": {},
   "outputs": [],
   "source": []
  },
  {
   "cell_type": "markdown",
   "metadata": {},
   "source": []
  },
  {
   "cell_type": "code",
   "execution_count": null,
   "metadata": {},
   "outputs": [],
   "source": []
  },
  {
   "cell_type": "code",
   "execution_count": 8,
   "metadata": {},
   "outputs": [],
   "source": [
    "class TreeNode:\n",
    "    def __init__(self, val=0, left=None, right=None):\n",
    "        self.val = val\n",
    "        self.left = left\n",
    "        self.right = right\n",
    "\n",
    "def maxPathSum(root):\n",
    "  res = [root.val]\n",
    "\n",
    "  def dfs(root):\n",
    "    if not root:\n",
    "      return 0\n",
    "\n",
    "    leftmax = dfs(root.left)\n",
    "    rightmax = dfs(root.right)\n",
    "    leftmax = max(leftmax, 0)\n",
    "    rightmax = max(rightmax, 0)\n",
    "\n",
    "    #without splitting, looking at path above that subtree\n",
    "    res[0] = max(res[0], leftmax + rightmax + root.val)\n",
    "\n",
    "    return root.val + max(leftmax, rightmax) # also take into consideration of above remaining tree\n",
    "  dfs(root)\n",
    "  return res[0]"
   ]
  },
  {
   "cell_type": "code",
   "execution_count": 9,
   "metadata": {},
   "outputs": [
    {
     "data": {
      "text/plain": [
       "42"
      ]
     },
     "execution_count": 9,
     "metadata": {},
     "output_type": "execute_result"
    }
   ],
   "source": [
    "def buildTreeFromList(lst, index=0):\n",
    "    if index >= len(lst) or lst[index] is None:\n",
    "        return None\n",
    "\n",
    "    node = TreeNode(lst[index])\n",
    "    node.left = buildTreeFromList(lst, 2 * index + 1)\n",
    "    node.right = buildTreeFromList(lst, 2 * index + 2)\n",
    "\n",
    "    return node\n",
    "\n",
    "root = [-10,9,20,None,None,15,7]\n",
    "# Build the tree from the list\n",
    "root = buildTreeFromList(root)\n",
    "maxPathSum(root)"
   ]
  },
  {
   "cell_type": "code",
   "execution_count": null,
   "metadata": {},
   "outputs": [],
   "source": []
  },
  {
   "cell_type": "code",
   "execution_count": 1,
   "metadata": {},
   "outputs": [],
   "source": [
    "class TreeNode:\n",
    "    def __init__(self, val=0, left=None, right=None):\n",
    "        self.val = val\n",
    "        self.left = left\n",
    "        self.right = right\n",
    "\n",
    "def count_unique(root):\n",
    "  answer = []\n",
    "  dp = {}\n",
    "  def count(node):\n",
    "    \n"
   ]
  },
  {
   "cell_type": "code",
   "execution_count": null,
   "metadata": {},
   "outputs": [],
   "source": []
  }
 ],
 "metadata": {
  "kernelspec": {
   "display_name": "Python 3.10.4 64-bit",
   "language": "python",
   "name": "python3"
  },
  "language_info": {
   "codemirror_mode": {
    "name": "ipython",
    "version": 3
   },
   "file_extension": ".py",
   "mimetype": "text/x-python",
   "name": "python",
   "nbconvert_exporter": "python",
   "pygments_lexer": "ipython3",
   "version": "3.10.4"
  },
  "orig_nbformat": 4,
  "vscode": {
   "interpreter": {
    "hash": "e8899eb02dfbc033aab5733bdae1bd213fa031d40331094008e8673d99ebab63"
   }
  }
 },
 "nbformat": 4,
 "nbformat_minor": 2
}
